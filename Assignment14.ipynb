{
 "cells": [
  {
   "cell_type": "markdown",
   "id": "d0d6d602-a1c1-43db-99ee-c325db085e9d",
   "metadata": {},
   "source": [
    "# 1). what is multithreading in python? hy is it used? Name the module used to handle threads in python"
   ]
  },
  {
   "cell_type": "markdown",
   "id": "88d24326-fed7-4b7e-9cc7-bf43b76ce80f",
   "metadata": {},
   "source": [
    "Multithreading in Python refers to the process of running multiple threads of execution simultaneously within a single process. A thread is a sequence of instructions that can be executed independently of the main program flow, allowing for parallelism and concurrency in the program.\n",
    "\n",
    "Multithreading is used in Python to improve the performance of programs that perform I/O operations or have CPU-bound tasks. By using multiple threads, these programs can take advantage of the available resources and complete tasks faster.\n",
    "\n",
    "In Python, the threading module is used to handle threads. This module provides a simple way to create and manage threads within a program."
   ]
  },
  {
   "cell_type": "markdown",
   "id": "64c15541-12df-43e5-854b-70b6ce4e72d8",
   "metadata": {},
   "source": [
    "# 2). Why threading module used? Write the use of the following functions:\n",
    "1. activeCount\n",
    "2. currentThread\n",
    "3. enumerate"
   ]
  },
  {
   "cell_type": "markdown",
   "id": "642e275f-3281-41eb-ba28-8528589aaaa4",
   "metadata": {},
   "source": [
    "The threading module in Python is used to create and manage threads in a program. It provides a way to create multiple threads of execution within a single process, allowing for parallelism and concurrency in the program.\n",
    "\n",
    "ActiveCount(): This function returns the number of active threads in the current process. It can be used to monitor the number of threads in a program and to ensure that the program does not create too many threads, which could cause performance problems.\n",
    "\n",
    "CurrentThread(): This function returns a reference to the current thread object. It can be used to access information about the current thread, such as its name, identifier, and status.\n",
    "\n",
    "enumerate(): This function returns a list of all thread objects in the current process. It can be used to iterate over all threads in a program and to perform operations on each thread, such as joining or terminating it."
   ]
  },
  {
   "cell_type": "markdown",
   "id": "db34d396-535d-4a65-8a35-36dc541dac0d",
   "metadata": {},
   "source": [
    "# 3). Explain the following functions\n",
    " run\n",
    " \n",
    " start\n",
    " \n",
    " join\n",
    " \n",
    " isAlive"
   ]
  },
  {
   "cell_type": "markdown",
   "id": "ad5b1dd0-603c-4a08-b8f2-6648ec2064e3",
   "metadata": {},
   "source": [
    "run(): This method is used to define the behavior of a thread when it starts running. It is called automatically when a thread is started using the start() method.\n",
    "\n",
    "start(): This method is used to start a thread. It creates a new thread of execution and calls the run() method of the thread.\n",
    "\n",
    "join(): This method is used to wait for a thread to complete its execution. When you call the join() method on a thread, the calling thread will block until the specified thread has finished running.\n",
    "\n",
    "isAlive(): This method is used to check whether a thread is currently running. It returns a boolean value that indicates whether the thread is still executing."
   ]
  },
  {
   "cell_type": "markdown",
   "id": "2dfa9dfd-5bb1-4ceb-918f-e5c32cee9170",
   "metadata": {},
   "source": [
    "# 4). Write a python program to create two threads. Thread one must print the list of squares and thread two must print the list of cubes."
   ]
  },
  {
   "cell_type": "code",
   "execution_count": 1,
   "id": "9d349e37-c460-4b12-b3d5-b6e66bf08bc7",
   "metadata": {},
   "outputs": [
    {
     "name": "stdout",
     "output_type": "stream",
     "text": [
      "1 squared is 1\n",
      "2 squared is 4\n",
      "3 squared is 9\n",
      "4 squared is 16\n",
      "5 squared is 25\n",
      "6 squared is 36\n",
      "7 squared is 49\n",
      "8 squared is 64\n",
      "9 squared is 81\n",
      "10 squared is 100\n",
      "1 cubed is 1\n",
      "2 cubed is 8\n",
      "3 cubed is 27\n",
      "4 cubed is 64\n",
      "5 cubed is 125\n",
      "6 cubed is 216\n",
      "7 cubed is 343\n",
      "8 cubed is 512\n",
      "9 cubed is 729\n",
      "10 cubed is 1000\n"
     ]
    }
   ],
   "source": [
    "import threading #import thread\n",
    "\n",
    "def print_squares():\n",
    "    for i in range(1, 11):\n",
    "        print(f\"{i} squared is {i**2}\")\n",
    "\n",
    "def print_cubes():\n",
    "    for i in range(1, 11):\n",
    "        print(f\"{i} cubed is {i**3}\")\n",
    "\n",
    "# create two threads\n",
    "t1 = threading.Thread(target=print_squares)\n",
    "t2 = threading.Thread(target=print_cubes)\n",
    "\n",
    "# start the threads\n",
    "t1.start()\n",
    "t2.start()\n",
    "\n",
    "# wait for the threads to finish\n",
    "t1.join()\n",
    "t2.join()"
   ]
  },
  {
   "cell_type": "code",
   "execution_count": null,
   "id": "e8859b1a-8bbf-4a46-b6c9-1e3651045323",
   "metadata": {},
   "outputs": [],
   "source": []
  }
 ],
 "metadata": {
  "kernelspec": {
   "display_name": "Python 3 (ipykernel)",
   "language": "python",
   "name": "python3"
  },
  "language_info": {
   "codemirror_mode": {
    "name": "ipython",
    "version": 3
   },
   "file_extension": ".py",
   "mimetype": "text/x-python",
   "name": "python",
   "nbconvert_exporter": "python",
   "pygments_lexer": "ipython3",
   "version": "3.10.8"
  }
 },
 "nbformat": 4,
 "nbformat_minor": 5
}
